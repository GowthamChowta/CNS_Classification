{
 "cells": [
  {
   "cell_type": "code",
   "execution_count": 1,
   "id": "49db1e38",
   "metadata": {},
   "outputs": [],
   "source": [
    "import os\n",
    "import shutil\n",
    "from tqdm import tqdm"
   ]
  },
  {
   "cell_type": "code",
   "execution_count": 2,
   "id": "2c6cb65b",
   "metadata": {},
   "outputs": [
    {
     "name": "stdout",
     "output_type": "stream",
     "text": [
      "Data arrange.ipynb            data-20211217T220641Z-010.zip\r\n",
      "\u001b[34mdata\u001b[m\u001b[m                          data-20211217T220641Z-011.zip\r\n",
      "data-20211217T220641Z-001.zip data-20211217T220641Z-012.zip\r\n",
      "data-20211217T220641Z-002.zip data-20211217T220641Z-013.zip\r\n",
      "data-20211217T220641Z-003.zip data-20211217T220641Z-014.zip\r\n",
      "data-20211217T220641Z-004.zip data-20211217T220641Z-015.zip\r\n",
      "data-20211217T220641Z-005.zip data-20211217T220641Z-016.zip\r\n",
      "data-20211217T220641Z-006.zip data-20211217T220641Z-017.zip\r\n",
      "data-20211217T220641Z-007.zip data-20211217T220641Z-018.zip\r\n",
      "data-20211217T220641Z-008.zip data-20211217T220641Z-019.zip\r\n",
      "data-20211217T220641Z-009.zip data-20211217T220641Z-020.zip\r\n"
     ]
    }
   ],
   "source": [
    "!ls"
   ]
  },
  {
   "cell_type": "code",
   "execution_count": 3,
   "id": "130279e3",
   "metadata": {},
   "outputs": [],
   "source": [
    "# importing required modules\n",
    "from zipfile import ZipFile\n",
    "\n",
    "def extract(file_name):\n",
    "\n",
    "    # opening the zip file in READ mode\n",
    "    with ZipFile(file_name, 'r') as zip_:\n",
    "        # printing all the contents of the zip file\n",
    "        #zip.printdir()\n",
    "        extracted = zip_.namelist()\n",
    "#         print(extracted[0])\n",
    "        # extracting all the files\n",
    "        print('Extracting all the files now...')\n",
    "        zip_.extractall()\n",
    "        print('Done!')\n",
    "    \n"
   ]
  },
  {
   "cell_type": "code",
   "execution_count": 6,
   "id": "8f856b47",
   "metadata": {},
   "outputs": [],
   "source": [
    "target_zip = []\n",
    "for file in os.listdir():\n",
    "    if file.endswith('zip'):\n",
    "        target_zip.append(file)"
   ]
  },
  {
   "cell_type": "code",
   "execution_count": 7,
   "id": "0cc568fc",
   "metadata": {
    "scrolled": true
   },
   "outputs": [],
   "source": [
    "target_zip = sorted(target_zip)"
   ]
  },
  {
   "cell_type": "code",
   "execution_count": 8,
   "id": "73d9ca76",
   "metadata": {},
   "outputs": [],
   "source": [
    "folder_names = ['endometrium_1',\n",
    " 'skin_2',\n",
    " 'small_intestine',\n",
    " 'lung',\n",
    " 'skin_1',\n",
    " 'spleen',\n",
    " 'kidney',\n",
    " 'liver',\n",
    " 'lymph_node',\n",
    " 'endometrium_2',\n",
    " 'pancreas',\n",
    " 'colon']\n"
   ]
  },
  {
   "cell_type": "code",
   "execution_count": 9,
   "id": "e78eaa32",
   "metadata": {},
   "outputs": [
    {
     "data": {
      "text/plain": [
       "['endometrium_1',\n",
       " 'skin_2',\n",
       " 'small_intestine',\n",
       " 'lung',\n",
       " 'skin_1',\n",
       " 'spleen',\n",
       " 'kidney',\n",
       " 'liver',\n",
       " 'lymph_node',\n",
       " 'endometrium_2',\n",
       " 'pancreas',\n",
       " 'colon']"
      ]
     },
     "execution_count": 9,
     "metadata": {},
     "output_type": "execute_result"
    }
   ],
   "source": [
    "folder_names"
   ]
  },
  {
   "cell_type": "code",
   "execution_count": 10,
   "id": "a0037c5e",
   "metadata": {},
   "outputs": [],
   "source": [
    "os.mkdir('root')\n",
    "os.mkdir('root/train')\n",
    "os.mkdir('root/test')\n",
    "for folder in folder_names:\n",
    "    os.mkdir('root/train/'+folder)\n",
    "    os.mkdir('root/test/'+folder)"
   ]
  },
  {
   "cell_type": "code",
   "execution_count": 11,
   "id": "59d89292",
   "metadata": {},
   "outputs": [],
   "source": [
    "def move(f):\n",
    "    \n",
    "    source_folder = r\"data/\"+f+'/'\n",
    "    destination_folder = r\"root/\"+f+'/'\n",
    "\n",
    "    for folder in folder_names:\n",
    "        # fetch all files\n",
    "        try:\n",
    "            for file_name in os.listdir(source_folder+folder):\n",
    "                # construct full file path\n",
    "                source = source_folder +folder +'/' +file_name\n",
    "                destination = destination_folder +folder\n",
    "                # move only files\n",
    "                # Do transformation\n",
    "                \n",
    "                if os.path.isfile(source):\n",
    "                    shutil.move(source, destination)\n",
    "    #                 print('Moved:', file_name)\n",
    "        except:\n",
    "            continue"
   ]
  },
  {
   "cell_type": "code",
   "execution_count": 12,
   "id": "26d6dbf2",
   "metadata": {},
   "outputs": [
    {
     "name": "stderr",
     "output_type": "stream",
     "text": [
      "\r",
      "  0%|                                                    | 0/20 [00:00<?, ?it/s]"
     ]
    },
    {
     "name": "stdout",
     "output_type": "stream",
     "text": [
      "Extracting all the files now...\n"
     ]
    },
    {
     "name": "stderr",
     "output_type": "stream",
     "text": [
      "\r",
      "  5%|██▏                                         | 1/20 [00:11<03:34, 11.31s/it]"
     ]
    },
    {
     "name": "stdout",
     "output_type": "stream",
     "text": [
      "Done!\n",
      "Extracting all the files now...\n"
     ]
    },
    {
     "name": "stderr",
     "output_type": "stream",
     "text": [
      "\r",
      " 10%|████▍                                       | 2/20 [00:21<03:09, 10.55s/it]"
     ]
    },
    {
     "name": "stdout",
     "output_type": "stream",
     "text": [
      "Done!\n",
      "Extracting all the files now...\n"
     ]
    },
    {
     "name": "stderr",
     "output_type": "stream",
     "text": [
      "\r",
      " 15%|██████▌                                     | 3/20 [00:32<03:01, 10.68s/it]"
     ]
    },
    {
     "name": "stdout",
     "output_type": "stream",
     "text": [
      "Done!\n",
      "Extracting all the files now...\n"
     ]
    },
    {
     "name": "stderr",
     "output_type": "stream",
     "text": [
      "\r",
      " 20%|████████▊                                   | 4/20 [00:42<02:48, 10.52s/it]"
     ]
    },
    {
     "name": "stdout",
     "output_type": "stream",
     "text": [
      "Done!\n",
      "Extracting all the files now...\n"
     ]
    },
    {
     "name": "stderr",
     "output_type": "stream",
     "text": [
      "\r",
      " 25%|███████████                                 | 5/20 [00:52<02:33, 10.22s/it]"
     ]
    },
    {
     "name": "stdout",
     "output_type": "stream",
     "text": [
      "Done!\n",
      "Extracting all the files now...\n"
     ]
    },
    {
     "name": "stderr",
     "output_type": "stream",
     "text": [
      "\r",
      " 30%|█████████████▏                              | 6/20 [01:01<02:20, 10.03s/it]"
     ]
    },
    {
     "name": "stdout",
     "output_type": "stream",
     "text": [
      "Done!\n",
      "Extracting all the files now...\n"
     ]
    },
    {
     "name": "stderr",
     "output_type": "stream",
     "text": [
      "\r",
      " 35%|███████████████▍                            | 7/20 [01:11<02:09,  9.96s/it]"
     ]
    },
    {
     "name": "stdout",
     "output_type": "stream",
     "text": [
      "Done!\n",
      "Extracting all the files now...\n"
     ]
    },
    {
     "name": "stderr",
     "output_type": "stream",
     "text": [
      "\r",
      " 40%|█████████████████▌                          | 8/20 [01:20<01:56,  9.71s/it]"
     ]
    },
    {
     "name": "stdout",
     "output_type": "stream",
     "text": [
      "Done!\n",
      "Extracting all the files now...\n"
     ]
    },
    {
     "name": "stderr",
     "output_type": "stream",
     "text": [
      "\r",
      " 45%|███████████████████▊                        | 9/20 [01:30<01:45,  9.63s/it]"
     ]
    },
    {
     "name": "stdout",
     "output_type": "stream",
     "text": [
      "Done!\n",
      "Extracting all the files now...\n"
     ]
    },
    {
     "name": "stderr",
     "output_type": "stream",
     "text": [
      "\r",
      " 50%|█████████████████████▌                     | 10/20 [01:39<01:34,  9.49s/it]"
     ]
    },
    {
     "name": "stdout",
     "output_type": "stream",
     "text": [
      "Done!\n",
      "Extracting all the files now...\n"
     ]
    },
    {
     "name": "stderr",
     "output_type": "stream",
     "text": [
      "\r",
      " 55%|███████████████████████▋                   | 11/20 [01:50<01:30, 10.10s/it]"
     ]
    },
    {
     "name": "stdout",
     "output_type": "stream",
     "text": [
      "Done!\n",
      "Extracting all the files now...\n"
     ]
    },
    {
     "name": "stderr",
     "output_type": "stream",
     "text": [
      "\r",
      " 60%|█████████████████████████▊                 | 12/20 [02:00<01:19,  9.91s/it]"
     ]
    },
    {
     "name": "stdout",
     "output_type": "stream",
     "text": [
      "Done!\n",
      "Extracting all the files now...\n"
     ]
    },
    {
     "name": "stderr",
     "output_type": "stream",
     "text": [
      "\r",
      " 65%|███████████████████████████▉               | 13/20 [02:09<01:07,  9.61s/it]"
     ]
    },
    {
     "name": "stdout",
     "output_type": "stream",
     "text": [
      "Done!\n",
      "Extracting all the files now...\n"
     ]
    },
    {
     "name": "stderr",
     "output_type": "stream",
     "text": [
      "\r",
      " 70%|██████████████████████████████             | 14/20 [02:18<00:56,  9.40s/it]"
     ]
    },
    {
     "name": "stdout",
     "output_type": "stream",
     "text": [
      "Done!\n",
      "Extracting all the files now...\n"
     ]
    },
    {
     "name": "stderr",
     "output_type": "stream",
     "text": [
      "\r",
      " 75%|████████████████████████████████▎          | 15/20 [02:27<00:46,  9.31s/it]"
     ]
    },
    {
     "name": "stdout",
     "output_type": "stream",
     "text": [
      "Done!\n",
      "Extracting all the files now...\n"
     ]
    },
    {
     "name": "stderr",
     "output_type": "stream",
     "text": [
      "\r",
      " 80%|██████████████████████████████████▍        | 16/20 [02:36<00:36,  9.17s/it]"
     ]
    },
    {
     "name": "stdout",
     "output_type": "stream",
     "text": [
      "Done!\n",
      "Extracting all the files now...\n"
     ]
    },
    {
     "name": "stderr",
     "output_type": "stream",
     "text": [
      "\r",
      " 85%|████████████████████████████████████▌      | 17/20 [02:45<00:27,  9.09s/it]"
     ]
    },
    {
     "name": "stdout",
     "output_type": "stream",
     "text": [
      "Done!\n",
      "Extracting all the files now...\n"
     ]
    },
    {
     "name": "stderr",
     "output_type": "stream",
     "text": [
      "\r",
      " 90%|██████████████████████████████████████▋    | 18/20 [02:57<00:20, 10.14s/it]"
     ]
    },
    {
     "name": "stdout",
     "output_type": "stream",
     "text": [
      "Done!\n",
      "Extracting all the files now...\n"
     ]
    },
    {
     "name": "stderr",
     "output_type": "stream",
     "text": [
      "\r",
      " 95%|████████████████████████████████████████▊  | 19/20 [03:08<00:10, 10.34s/it]"
     ]
    },
    {
     "name": "stdout",
     "output_type": "stream",
     "text": [
      "Done!\n",
      "Extracting all the files now...\n"
     ]
    },
    {
     "name": "stderr",
     "output_type": "stream",
     "text": [
      "100%|███████████████████████████████████████████| 20/20 [03:15<00:00,  9.78s/it]"
     ]
    },
    {
     "name": "stdout",
     "output_type": "stream",
     "text": [
      "Done!\n"
     ]
    },
    {
     "name": "stderr",
     "output_type": "stream",
     "text": [
      "\n"
     ]
    }
   ],
   "source": [
    "def extract_andMove():\n",
    "    for file in tqdm(target_zip):\n",
    "        extract(file)\n",
    "        move('train')\n",
    "        move('test')\n",
    "        shutil.rmtree('data')\n",
    "\n",
    "extract_andMove()        "
   ]
  },
  {
   "cell_type": "code",
   "execution_count": null,
   "id": "ff7824ca",
   "metadata": {},
   "outputs": [],
   "source": []
  }
 ],
 "metadata": {
  "kernelspec": {
   "display_name": "Python 3 (ipykernel)",
   "language": "python",
   "name": "python3"
  },
  "language_info": {
   "codemirror_mode": {
    "name": "ipython",
    "version": 3
   },
   "file_extension": ".py",
   "mimetype": "text/x-python",
   "name": "python",
   "nbconvert_exporter": "python",
   "pygments_lexer": "ipython3",
   "version": "3.8.12"
  }
 },
 "nbformat": 4,
 "nbformat_minor": 5
}
